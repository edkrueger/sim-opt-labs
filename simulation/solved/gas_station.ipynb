{
 "cells": [
  {
   "cell_type": "markdown",
   "metadata": {},
   "source": [
    "# Gas Station Simulator Problem\n",
    "#### _Edward Krueger, edkrueger@gmail.com_\n",
    "\n",
    "## Purpose\n",
    "\n",
    "## Overview\n",
    "\n",
    "Alice is an owner of a small gas station that only has one pump. She is looking into adding additional pumps to her gas station and has asked you to simulate the effect.\n",
    "\n",
    "Currently, the gas station is the only one in town; customers don't leave regardless of how long the wait is. The owner has as a deal with the a service that can provide her as much gas as she needs; we won't model the filling of the tanks.\n",
    "\n",
    "## The simulation details\n",
    "\n",
    "### Customer arrivals\n",
    "\n",
    "Alice's experiences have told her a customer arrives about every 2 minutes. However, she would like to be able to change this value in the simulation to add robustness.\n",
    "\n",
    "You should use the exponential distribution parameterized so that the mean waiting time is 2. The exponential distribution is commonly used for waiting time between events. It's a nice, simple distribution to use because it has a single parameter distribution that is directly related to its mean.\n",
    "\n",
    "For more, see: https://en.wikipedia.org/wiki/Exponential_distribution#Applications_of_exponential_distribution.\n",
    "\n",
    "The scipy package implements random draws from this distribution: https://docs.scipy.org/doc/scipy/reference/generated/scipy.stats.expon.html.\n",
    "\n",
    "Be careful, because scipy's parametrization is different from the one in the Wikipedia article above!\n",
    "\n",
    "\n",
    "### Customer requirements\n",
    "\n",
    "Customers, obviously, utilize pumps when they need gas. We make the assumption that a customer's gas requirement is normally distributed, centered around 15 gallons, with standard deviation 5. This roughly corresponds to 95% of customers requiring between 5 and 25 gallons of gas. Almost all customers will then take between 0 and 30 gallons of gas. If you like, verify this both numerically and mathematically. (Hint: look up the \"empirical rule\")\n",
    "\n",
    "Many statistical packages only provide a standard normal distribution with mean 0 and standard deviation 1. But, by multiplying by the standard deviation and adding the mean you can transform the random variable.\n",
    "\n",
    "Mathematically, if $z \\sim N(0,1)$ and $x \\sim N(\\mu, \\sigma)$ then $z * \\sigma + \\mu = x$. Note, this formula is the inverse of the formula for standardizing a normal random variable.\n",
    "\n",
    "Scipy has the normal distribution available in the same module as the exponential distribution: https://docs.scipy.org/doc/scipy/reference/generated/scipy.stats.norm.html.\n",
    "\n",
    "To be safe, since the normal distribution has support of $(-\\infty, \\infty)$, you'll want to make sure that the draw is always nonnegative.\n",
    "\n",
    "### Pump rate\n",
    "\n",
    "Many pumps can pump at a rate faster than 10 gallons per minute, the US law mandates a cap of 10 gallons per minute. Alice's pumps are this fast.\n",
    "\n",
    "### Customer behavior\n",
    "\n",
    "Some customers just pump gas, but most have some lay time. They go in to buy snacks, pay for gas with cash, go to the bathroom, etc.\n",
    "\n",
    "You'll model lay time with an exponential distribution with mean 5.\n",
    "\n",
    "Customer's will spend the higher of their pump time and their lay time utilizing the pump and the leave allowing the next costumer to use the pump.\n",
    "\n",
    "## Implementation\n",
    "\n",
    "I would suggest using the package Simpy to write your solution, as that is the package I've written mine in. However, there are many other options in many languages. This is simple enough that you could even write this from scratch; but I wouldn't advise it. Simpy has a good, quick, 10-minute tutorial at https://simpy.readthedocs.io/en/latest/simpy_intro/index.html#intro.\n",
    "\n",
    "Copyright © 2018 Edward Krueger"
   ]
  },
  {
   "cell_type": "markdown",
   "metadata": {},
   "source": [
    "# Gas Station Simulator Solution"
   ]
  },
  {
   "cell_type": "markdown",
   "metadata": {},
   "source": [
    "## Setup"
   ]
  },
  {
   "cell_type": "code",
   "execution_count": 1,
   "metadata": {},
   "outputs": [
    {
     "ename": "ModuleNotFoundError",
     "evalue": "No module named 'simpy'",
     "output_type": "error",
     "traceback": [
      "\u001b[0;31m---------------------------------------------------------------------------\u001b[0m",
      "\u001b[0;31mModuleNotFoundError\u001b[0m                       Traceback (most recent call last)",
      "\u001b[0;32m<ipython-input-1-927c74de8e20>\u001b[0m in \u001b[0;36m<module>\u001b[0;34m\u001b[0m\n\u001b[0;32m----> 1\u001b[0;31m \u001b[0;32mimport\u001b[0m \u001b[0msimpy\u001b[0m\u001b[0;34m\u001b[0m\u001b[0;34m\u001b[0m\u001b[0m\n\u001b[0m\u001b[1;32m      2\u001b[0m \u001b[0;34m\u001b[0m\u001b[0m\n\u001b[1;32m      3\u001b[0m \u001b[0;32mimport\u001b[0m \u001b[0mnumpy\u001b[0m \u001b[0;32mas\u001b[0m \u001b[0mnp\u001b[0m\u001b[0;34m\u001b[0m\u001b[0;34m\u001b[0m\u001b[0m\n\u001b[1;32m      4\u001b[0m \u001b[0;34m\u001b[0m\u001b[0m\n\u001b[1;32m      5\u001b[0m \u001b[0;32mfrom\u001b[0m \u001b[0mscipy\u001b[0m\u001b[0;34m.\u001b[0m\u001b[0mstats\u001b[0m \u001b[0;32mimport\u001b[0m \u001b[0mexpon\u001b[0m\u001b[0;34m\u001b[0m\u001b[0;34m\u001b[0m\u001b[0m\n",
      "\u001b[0;31mModuleNotFoundError\u001b[0m: No module named 'simpy'"
     ]
    }
   ],
   "source": [
    "import simpy\n",
    "\n",
    "import numpy as np \n",
    "\n",
    "from scipy.stats import expon\n",
    "from scipy.stats import norm\n"
   ]
  },
  {
   "cell_type": "code",
   "execution_count": null,
   "metadata": {},
   "outputs": [],
   "source": [
    "class GasStation():\n",
    "    \n",
    "    \"\"\"\n",
    "    Models a gas station as a simpy.Resource with a given number of pumps.\n",
    "    \n",
    "    Arguments:\n",
    "    -----------\n",
    "    num_pumps (int): The number of pumps at the gas station\n",
    "    env (simpy.Environment): The simpy environment\n",
    "    \"\"\"\n",
    "    \n",
    "    def __init__(self, num_pumps, env):\n",
    "        \n",
    "        self.num_pumps = num_pumps\n",
    "        \n",
    "        self.env = env\n",
    "        \n",
    "        self.resource = simpy.Resource(self.env, capacity=num_pumps)\n",
    "        \n",
    "        self.minutes_utilized = 0\n",
    "        self.gallons_sold = 0"
   ]
  },
  {
   "cell_type": "code",
   "execution_count": null,
   "metadata": {},
   "outputs": [],
   "source": [
    "class Car():\n",
    "\n",
    "    \"\"\"\n",
    "    Models a car.\n",
    "    The car's simulation process in the simulation is the method .run().\n",
    "    \n",
    "    Arguments:\n",
    "    -----------\n",
    "    id (int): A unique id for the car\n",
    "    gas_required (float): Amount of gallons a car will fill\n",
    "    lay_time (float): Extra minutes that the car stays at the pump\n",
    "    gas_station (GasStation): The gas station the cars are going to\n",
    "    env (simpy.Environment): The simpy environment\n",
    "    \n",
    "    \"\"\"\n",
    "    \n",
    "    def __init__(\n",
    "        self,\n",
    "        id,\n",
    "        gas_required,\n",
    "        lay_time,\n",
    "        gas_station,\n",
    "        env\n",
    "    ):\n",
    "        \n",
    "        self.id = id\n",
    "        self.gas_required = gas_required\n",
    "        self.lay_time = lay_time\n",
    "        self.gas_station = gas_station\n",
    "        self.env = env\n",
    "        \n",
    "        self.wait_time = np.inf\n",
    "        self.finished = False\n",
    "        \n",
    "        self.action = self.env.process(self.run())\n",
    "        \n",
    "    def run(self):\n",
    "        \n",
    "        queue_time = self.env.now\n",
    "        \n",
    "        print(f'Car {self.id} arrives at {round(queue_time, 2)} minutes')\n",
    "                \n",
    "        with self.gas_station.resource.request() as req:\n",
    "            \n",
    "            yield req\n",
    "            \n",
    "            pump_start_time = self.env.now\n",
    "            \n",
    "            print(f'Car {self.id} begins utilizing a pump at {round(pump_start_time, 2)} minutes')\n",
    "\n",
    "            pump_time = self.gas_required / PUMP_RATE\n",
    "            utilization = max(pump_time, self.lay_time)\n",
    "            \n",
    "            yield self.env.timeout(utilization)\n",
    "            \n",
    "            pump_end_time = self.env.now\n",
    "            \n",
    "            print(f'Car {self.id} leaves its pump at {round(pump_end_time, 2)} minutes')\n",
    "            \n",
    "            self.finished = True\n",
    "            \n",
    "            self.wait_time = pump_start_time - queue_time\n",
    "            self.gas_station.minutes_utilized += utilization\n",
    "            self.gas_station.gallons_sold += self.gas_required"
   ]
  },
  {
   "cell_type": "code",
   "execution_count": null,
   "metadata": {},
   "outputs": [],
   "source": [
    "def scheduler(env):\n",
    "    \n",
    "    \"\"\"\n",
    "    Controls the arrival of cars at the gas station.\n",
    "    \n",
    "    Arguments:\n",
    "    -----------\n",
    "    env (simpy.Environment): The simpy environment\n",
    "    \"\"\"\n",
    "    \n",
    "    id = 0\n",
    "    \n",
    "    while True:\n",
    "        \n",
    "        waiting_time = expon.rvs(loc=0, scale=EXPECTED_WAIT)\n",
    "        \n",
    "        std_norm = norm.rvs()\n",
    "        gas_required = std_norm * GAS_REQUIRED_STD + GAS_REQUIRED_MEAN\n",
    "        gas_required = max([0, gas_required])\n",
    "        \n",
    "        lay_time = expon.rvs(loc=0, scale=EXPECTED_LAY_TIME)\n",
    "        \n",
    "        yield env.timeout(waiting_time)\n",
    "        \n",
    "        CARS.append(\n",
    "            Car(\n",
    "                id=id,\n",
    "                gas_required=gas_required,\n",
    "                lay_time=lay_time,\n",
    "                gas_station=gas_station,\n",
    "                env=env\n",
    "            )\n",
    "        )\n",
    "        \n",
    "        id += 1"
   ]
  },
  {
   "cell_type": "markdown",
   "metadata": {},
   "source": [
    "## Input parameters and run the simulation"
   ]
  },
  {
   "cell_type": "code",
   "execution_count": null,
   "metadata": {},
   "outputs": [],
   "source": [
    "EXPECTED_WAIT = 2 # in minutes\n",
    "\n",
    "GAS_REQUIRED_MEAN = 15 # in gallons\n",
    "GAS_REQUIRED_STD = 5 # in gallons\n",
    "\n",
    "PUMP_RATE = 10 # in gallons per minute\n",
    "\n",
    "EXPECTED_LAY_TIME = 5 # in minutes\n",
    "\n",
    "sim_time = 24 * 60 # in minutes"
   ]
  },
  {
   "cell_type": "markdown",
   "metadata": {},
   "source": [
    "## Wrap up the simulation and metrics"
   ]
  },
  {
   "cell_type": "code",
   "execution_count": null,
   "metadata": {},
   "outputs": [],
   "source": [
    "env = simpy.Environment()\n",
    "CARS = []\n",
    "gas_station = GasStation(1, env)\n",
    "env.process(scheduler(env))\n",
    "env.run(until=sim_time)"
   ]
  },
  {
   "cell_type": "code",
   "execution_count": null,
   "metadata": {},
   "outputs": [],
   "source": [
    "avg_wait_time = np.array([car.wait_time for car in CARS if car.finished]).mean()\n",
    "\n",
    "total_utilization = gas_station.minutes_utilized\n",
    "percent_utilization = total_utilization / (sim_time * gas_station.num_pumps)\n",
    "\n",
    "total_gallons_sold = gas_station.gallons_sold\n",
    "\n",
    "print(f'Average wait time (minutes): {avg_wait_time}')\n",
    "print(f'Percent: {percent_utilization}')\n",
    "print(f'Total Gallons Sold: {total_gallons_sold}')"
   ]
  }
 ],
 "metadata": {
  "kernelspec": {
   "display_name": "Python 3",
   "language": "python",
   "name": "python3"
  },
  "language_info": {
   "codemirror_mode": {
    "name": "ipython",
    "version": 3
   },
   "file_extension": ".py",
   "mimetype": "text/x-python",
   "name": "python",
   "nbconvert_exporter": "python",
   "pygments_lexer": "ipython3",
   "version": "3.7.1"
  }
 },
 "nbformat": 4,
 "nbformat_minor": 2
}
