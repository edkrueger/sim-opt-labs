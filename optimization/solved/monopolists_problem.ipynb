{
 "cells": [
  {
   "cell_type": "markdown",
   "metadata": {},
   "source": [
    "# Monopolist's Optimization Problem"
   ]
  },
  {
   "cell_type": "markdown",
   "metadata": {},
   "source": [
    "## Introduction"
   ]
  },
  {
   "cell_type": "markdown",
   "metadata": {},
   "source": [
    "Bob runs a widget factory. He is the sole producer of his particular type of widget.\n",
    "The price, $p$, he receives in the market for a pound of his widgets is determined the quantity, $q$, of pounds of widgets he puts on the market.\n",
    "\n",
    "He faces the quadratic demand curve $p(q) = 100 - q^{2}$.\n",
    "\n",
    "Which means, for example:\n",
    "\n",
    "* if he sells 1 pound of widget he receives \\\\$99 per pound: $p(1) = 100 - 1^{2} = 99$\n",
    "* if he sells 2 pounds of widgets he receives \\\\$96 per pound: $p(1) = 100 - 2^{2} = 96$\n",
    "* if he sells 3 pounds of widgets he receives \\\\$91 per pound: $p(1) = 100 - 3^{2} = 91$\n",
    "\n",
    "Bob owns the factory and equipment in it; he cannot sell it. His cost per pound of widgets is 10. This gives $C(q)=10q$ as his total costs.\n",
    "\n",
    "Profit is given by $price\\ per\\ unit * units\\ sold - total\\ costs$. In our notation, Bob's profit, $\\pi$ can be written as $\\pi(q) = 90q - q^{3}$."
   ]
  },
  {
   "cell_type": "markdown",
   "metadata": {},
   "source": [
    "## Optimization Techniques"
   ]
  },
  {
   "cell_type": "markdown",
   "metadata": {},
   "source": [
    "We'll consider minimizing a function that is concave over its relevant range. In order to maximize a convex function, we can simply take its negatitive (which is concave) and minimize it.\n",
    "\n",
    "For simplicity, we'll only consider function of one real-valued variable."
   ]
  },
  {
   "cell_type": "markdown",
   "metadata": {},
   "source": [
    "### Gradient Descent"
   ]
  },
  {
   "cell_type": "markdown",
   "metadata": {},
   "source": [
    "Gradient Descent is a simple method of finding a minimum that can be used on a very wide variety of functions. Gradient Descent along with methods based on it is commonly used to maximize functions that have no second derivative or where the second derivative of the function is difficult to compute or even approximate. Gradient Descent based methods are used in order to minimize the loss function in many machine learning models, particularly deep learning models. \n",
    "\n",
    "The idea is that once we pick an initial guess, we iteratively can follow the slope (i.e. go the opposite direction of the slope) until we reach a minimum. This is often compared to a ball rolling down a hill, but without the details to make it physically realistic. (There are other optimization techniques that draw inspiration for the physical metaphor by adding in analogues to friction and gravity.)\n",
    "\n",
    "The iterative equation for Gradient Descent, for a real-valued function of one variable, is given by:\n",
    "$$x_{n+1} = x_{n} - \\gamma \\ f'(x_{n})$$\n",
    "Where $\\gamma$, called the learning rate, controls the rate at which descent happens. The learning rate is an example of a hyperparameter. A hyperparameter what is not estimated by the model and much be chosen before the model is run. In cases where the function is very steep, a low value should be chosen for the learning rate. Conversely, a high value for the learning rate should be chosen for very gradual functions."
   ]
  },
  {
   "cell_type": "markdown",
   "metadata": {},
   "source": [
    "### Newton-Raphson"
   ]
  },
  {
   "cell_type": "markdown",
   "metadata": {},
   "source": [
    "Newton-Raphson is a root finding algorithm. However, since finding a critical point of a function (minima, maxima, point of inflection) is equivalent to finding a root of it derivative, we can use Newton-Raphson for minimization. To use Newton-Raphson for minimization, we require that the function has a second derivative over its domain. Newton-Raphson and methods based on it are commonly used for scientific and statistical applications, because in cases where the function is well understood, Newton-Raphson has better properties and converges more rapidly than gradient descent.\n",
    "\n",
    "For a real-valued function of one variable, $f$, Newton-Raphson find roots with the iterative equation:\n",
    "$$x_{n+1} = x_{n} - \\frac{f(x_{n})}{f'(x_{n})}$$\n",
    "\n",
    "Since, minimizing a well-behaved function is the same as finding the roots of its derivative, we can use Newton-Raphson to minimize f with the iterative equation:\n",
    "$$x_{n+1} = x_{n} - \\frac{f'(x_{n})}{f''(x_{n})}$$\n",
    "\n",
    "Rewriting slightly, we get:  \n",
    "$$x_{n+1} = x_{n} - \\gamma(x_{n}){f'(x_{n})}$$\n",
    "where $\\gamma(x_{n}) = \\frac{1}{f''(x_{n})}$.\n",
    "\n",
    "From this last equation, we can directly see the relationship to Gradient Descent: Newton-Raphson minimization is like Gradient Descent, but with a learning rate that is determined by the curvature of the function. Returning to the metaphor of a ball rolling down a hill, Gradient Descent has a constant acceleration, while Newton-Raphson minimization has acceleration determined by the curvature of the hill.\n",
    "\n",
    "Another important difference is that Newton-Raphson has no hyperparameters. Which contributes to the simplicity of using the method."
   ]
  },
  {
   "cell_type": "markdown",
   "metadata": {},
   "source": [
    "## Instructions"
   ]
  },
  {
   "cell_type": "markdown",
   "metadata": {},
   "source": [
    "1. Show the expression for profit, $\\pi(q) = 90q - q^{3}$, is correct.\n",
    "2. Mathematically solve for the optimal quantity of widgets Bob should produce to maximize his profit and his maximum profit.  \n",
    "(If you need a refresher, see: https://mjo.osborne.economics.utoronto.ca/index.php/tutorial/index/1/nen/t)\n",
    "3. Use Gradient Descent to numerically solve Bob's problem. Write the algorithm yourself; don't use a package for it!\n",
    "4. Use Newton-Raphson to numerically solve Bob's problem. Write the algorithm yourself; don't use a package for it!\n",
    "4. Compare the convergence speed of Gradient Descent and Newton's method.\n",
    "5. Use Scipy's building optimization function to solve Bob's problem."
   ]
  },
  {
   "cell_type": "markdown",
   "metadata": {},
   "source": [
    "## Solutions"
   ]
  },
  {
   "cell_type": "markdown",
   "metadata": {},
   "source": [
    "## Setup"
   ]
  },
  {
   "cell_type": "code",
   "execution_count": 1,
   "metadata": {},
   "outputs": [],
   "source": [
    "import numpy as np\n",
    "from scipy.optimize import minimize\n",
    "import matplotlib.pyplot as plt\n",
    "\n",
    "import warnings"
   ]
  },
  {
   "cell_type": "markdown",
   "metadata": {},
   "source": [
    "### Part 1"
   ]
  },
  {
   "cell_type": "markdown",
   "metadata": {},
   "source": [
    "Profits are given by $price\\ per\\ unit * units\\ sold - total\\ costs$.  \n",
    "So:  \n",
    "$\n",
    "\\quad \\pi(q) = p(q) q - C(q)\\\\\n",
    "\\quad \\pi(q) = (100 - q^{2}) q - 10q\\\\\n",
    "\\quad \\pi(q) = 90q - q^{3}\\\\\n",
    "$"
   ]
  },
  {
   "cell_type": "markdown",
   "metadata": {},
   "source": [
    "### Part 2"
   ]
  },
  {
   "cell_type": "markdown",
   "metadata": {},
   "source": [
    "Profits are given by $\\pi(q) = 90q - q^{3}$.  \n",
    "The derivative is $\\pi'(q) = 90 - 3q^{2}$, by the power rule.  \n",
    "We know that a critical point occurs at $\\pi'(q) = 0$.  \n",
    "Plugging in the expression for $\\pi'(q)$ , we get $90 - 3q^{2} = 0$.  \n",
    "Solving, we get $q = \\sqrt{30}$ and $q = -\\sqrt{30}$.  \n",
    "However, the range of q is implicitly nonnegative numbers, so the negative root doesn't make sense.  \n",
    "So, the optimal quantity is $q = \\sqrt{30}$ and the associated profit is quantity is $pi(\\sqrt{30}) = 60\\sqrt{30}$.\n"
   ]
  },
  {
   "cell_type": "markdown",
   "metadata": {},
   "source": [
    "We need to verify that we have the global maximum (as opposed to a local maxima or a minama).  \n",
    "We can get the intuition for this by graphing.\n",
    "\n",
    "We find the roots of $\\pi(q)$, so that we can get a reasonable range.  \n",
    "The roots occur at $\\pi(q) = 0$.  \n",
    "The relevant roots are $q=0$ and $q=3\\sqrt{10}$.\n"
   ]
  },
  {
   "cell_type": "code",
   "execution_count": 2,
   "metadata": {},
   "outputs": [
    {
     "data": {
      "image/png": "[encoded data removed]",
      "text/plain": [
       "<Figure size 432x288 with 1 Axes>"
      ]
     },
     "metadata": {
      "needs_background": "light"
     },
     "output_type": "display_data"
    }
   ],
   "source": [
    "pi = lambda q: 90 * q - q**3\n",
    "\n",
    "x = np.arange(0, 3 * np.sqrt(10), .01)\n",
    "\n",
    "plt.plot(x, pi(x))\n",
    "plt.title('Profits ($\\pi$) v.s Quantity ($q$) \\n $\\pi(q) = 90q - q^{3}$''')\n",
    "plt.xlabel('Quantity (q)')\n",
    "plt.ylabel('Profits ($\\pi$) \\n')\n",
    "plt.show()"
   ]
  },
  {
   "cell_type": "markdown",
   "metadata": {},
   "source": [
    "To be certain that we have found the global maximum, we really should not rely on the plot and should check if the function is concave for values of $q$ greater than 0.  \n",
    "A real-valued function is concave over an interval if its second derivative is negative over that set.  \n",
    "The second derivative of profits is $\\pi''(q) = - 6q$, which is negative for all positive values of q.\n",
    "So, we have in fact found the global maximum."
   ]
  },
  {
   "cell_type": "markdown",
   "metadata": {},
   "source": [
    "### Part 3"
   ]
  },
  {
   "cell_type": "code",
   "execution_count": 3,
   "metadata": {},
   "outputs": [],
   "source": [
    "def gradient_descent(\n",
    "    df,\n",
    "    gamma,\n",
    "    x0,\n",
    "    max_iter = 1000,\n",
    "    tol = 10**-6,\n",
    "):\n",
    "    \"\"\"\n",
    "    Performs Gradient Descent for a real-valued function of one variable.\n",
    "    Returns the minimizer and the number of iterations in a dictionary with keys 'argmin', 'n_iter'.\n",
    "    \n",
    "    Arguments:\n",
    "    -----------\n",
    "    df (function): The derivative of the objective function, a real-valued function of one variable\n",
    "    gamma (float): The learning rate\n",
    "    x0 (float): The initial guess\n",
    "    max_iter (int): The maximum number of iterations\n",
    "    tol = 10**-6: The tolerance. The simulation stops when |x_{n} - x_{n-1}| <= tol and returns xn\n",
    "    \"\"\"\n",
    "    \n",
    "    n_iter = 0\n",
    "    x_last = np.inf\n",
    "    x_current = x0\n",
    "    \n",
    "    while abs(x_current - x_last) > tol:\n",
    "        \n",
    "        x_current, x_last = x_current - gamma * df(x_current), x_current\n",
    "        \n",
    "        n_iter += 1\n",
    "        \n",
    "        if n_iter >= max_iter:\n",
    "            warnings.warn('Algorithm did not converge within the tolerance of {tol} in {max_iter} iterations.')\n",
    "            break\n",
    "            \n",
    "    return {\n",
    "        'argmin': x_current,\n",
    "        'n_iter': n_iter\n",
    "        \n",
    "    } "
   ]
  },
  {
   "cell_type": "code",
   "execution_count": 4,
   "metadata": {},
   "outputs": [],
   "source": [
    "# note: profit is convex, so to maximize it, we must minimize its negative\n",
    "f_prime = lambda q: -(90 - 3 * q**2)"
   ]
  },
  {
   "cell_type": "code",
   "execution_count": 5,
   "metadata": {},
   "outputs": [
    {
     "data": {
      "text/plain": [
       "{'argmin': 5.477225841733389, 'n_iter': 14}"
      ]
     },
     "execution_count": 5,
     "metadata": {},
     "output_type": "execute_result"
    }
   ],
   "source": [
    "gradient_descent(\n",
    "    df=f_prime,\n",
    "    gamma=.02,\n",
    "    x0=10,\n",
    ")"
   ]
  },
  {
   "cell_type": "code",
   "execution_count": 6,
   "metadata": {},
   "outputs": [
    {
     "data": {
      "text/plain": [
       "{'argmin': 5.477225574495832, 'n_iter': 7}"
      ]
     },
     "execution_count": 6,
     "metadata": {},
     "output_type": "execute_result"
    }
   ],
   "source": [
    "gradient_descent(\n",
    "    df=f_prime,\n",
    "    gamma=.03,\n",
    "    x0=10,\n",
    ")"
   ]
  },
  {
   "cell_type": "code",
   "execution_count": 7,
   "metadata": {},
   "outputs": [
    {
     "data": {
      "text/plain": [
       "{'argmin': 5.477225714304883, 'n_iter': 15}"
      ]
     },
     "execution_count": 7,
     "metadata": {},
     "output_type": "execute_result"
    }
   ],
   "source": [
    "gradient_descent(\n",
    "    df=f_prime,\n",
    "    gamma=.04,\n",
    "    x0=10,\n",
    ")"
   ]
  },
  {
   "cell_type": "markdown",
   "metadata": {},
   "source": [
    "All of the above learning rates produce a solution within tolerance, but you can see that picking a learning rate that is either too small or too large will slow or, in the worst case, prevent convergence."
   ]
  },
  {
   "cell_type": "markdown",
   "metadata": {},
   "source": [
    "### Part 4"
   ]
  },
  {
   "cell_type": "code",
   "execution_count": 8,
   "metadata": {},
   "outputs": [],
   "source": [
    "def newton_raphson_minimization(\n",
    "    df,\n",
    "    d2f,\n",
    "    x0,\n",
    "    max_iter = 1000,\n",
    "    tol = 10**-6,\n",
    "):\n",
    "    \"\"\"\n",
    "    Performs Newton-Raphson minimization for a real-valued function of one variable.\n",
    "    Returns the minimizer and the number of iterations in a dictionary with keys 'argmin', 'n_iter'.\n",
    "    \n",
    "    Arguments:\n",
    "    -----------\n",
    "    df (function): The derivative of the objective function, a real-valued function of one variable\n",
    "    d2f (function): The second derivative of the objective function\n",
    "    gamma (float): The learning rate\n",
    "    x0 (float): The initial guess\n",
    "    max_iter (int): The maximum number of iterations\n",
    "    tol = 10**-6: The tolerance. The simulation stops when |x_{n} - x_{n-1}| <= tol and returns xn\n",
    "    \"\"\"\n",
    "    \n",
    "    n_iter = 0\n",
    "    x_last = np.inf\n",
    "    x_current = x0\n",
    "    \n",
    "    while abs(x_current - x_last) > tol:\n",
    "        \n",
    "        x_current, x_last = x_current - df(x_current) / d2f(x_current), x_current\n",
    "        \n",
    "        n_iter += 1\n",
    "        \n",
    "        if n_iter >= max_iter:\n",
    "            warnings.warn('Algorithm did not converge within the tolerance of {tol} in {max_iter} iterations.')\n",
    "            break\n",
    "            \n",
    "    return {\n",
    "        'argmin': x_current,\n",
    "        'n_iter': n_iter\n",
    "        \n",
    "    } "
   ]
  },
  {
   "cell_type": "code",
   "execution_count": 9,
   "metadata": {},
   "outputs": [],
   "source": [
    "# note: profit is convex, so to maximize it, we must minimize its negative\n",
    "f_prime = lambda q: -(90 - 3 * q**2)\n",
    "f_double_prime = lambda q: -(-6 * q)"
   ]
  },
  {
   "cell_type": "code",
   "execution_count": 10,
   "metadata": {},
   "outputs": [
    {
     "data": {
      "text/plain": [
       "{'argmin': 5.477225575051661, 'n_iter': 5}"
      ]
     },
     "execution_count": 10,
     "metadata": {},
     "output_type": "execute_result"
    }
   ],
   "source": [
    "newton_raphson_minimization(\n",
    "    df=f_prime,\n",
    "    d2f=f_double_prime,\n",
    "    x0=10,\n",
    ")"
   ]
  },
  {
   "cell_type": "markdown",
   "metadata": {},
   "source": [
    "### Part 5"
   ]
  },
  {
   "cell_type": "markdown",
   "metadata": {},
   "source": [
    "You'll notice that Newton-Raphson almost always outperforms Gradient Descent regardless of the learning rate or initial guess. For example, try setting the initial guess to 100. For some learning rates, you may get an overflow error when computing $x_{n+1}$, this is because the learning rate is too large and makes the expression explode. Alternatively, if it runs, you may find that Gradient Descent does not converge within a reasonable number of iterations.\n",
    "\n",
    "One issue you may have with Newton-Raphson is a `ZeroDivisionError` error. This will occur because at 0, $\\pi''(0)=0$ and the iterative equation require division by $\\pi''(0)$ in this problem. You can solve this issue by perturbing the iterative equation slightly:\n",
    "$$x_{n+1} = x_{n} - \\frac{f(x_{n})}{f'(x_{n})+\\epsilon}$$\n",
    "where $\\epsilon$ is a very small number. When coding this, epsilon should be able to be defined by the user."
   ]
  },
  {
   "cell_type": "markdown",
   "metadata": {},
   "source": [
    "### Part 6"
   ]
  },
  {
   "cell_type": "code",
   "execution_count": 11,
   "metadata": {},
   "outputs": [
    {
     "name": "stdout",
     "output_type": "stream",
     "text": [
      "The maximum profit is 328.63353450309955 where the quantity is 5.477225490171372.\n",
      "Scipy's mimimizer with its implementation of the BFGS solver took 3 iterations.\n"
     ]
    }
   ],
   "source": [
    "results = minimize(fun=lambda x: -pi(x), x0=5)\n",
    "print(f'The maximum profit is {-results.fun} where the quantity is {results.x[0]}.')\n",
    "print(f'Scipy\\'s mimimizer with its implementation of the BFGS solver took {results.nit} iterations.')"
   ]
  }
 ],
 "metadata": {
  "kernelspec": {
   "display_name": "Python 3",
   "language": "python",
   "name": "python3"
  },
  "language_info": {
   "codemirror_mode": {
    "name": "ipython",
    "version": 3
   },
   "file_extension": ".py",
   "mimetype": "text/x-python",
   "name": "python",
   "nbconvert_exporter": "python",
   "pygments_lexer": "ipython3",
   "version": "3.7.1"
  }
 },
 "nbformat": 4,
 "nbformat_minor": 2
}
